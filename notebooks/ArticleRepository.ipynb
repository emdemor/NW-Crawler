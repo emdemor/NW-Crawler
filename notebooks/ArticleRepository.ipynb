{
 "cells": [
  {
   "cell_type": "code",
   "execution_count": 1,
   "id": "2d5a19fb-ce8d-44f8-ab6c-72245788fd14",
   "metadata": {},
   "outputs": [],
   "source": [
    "import os\n",
    "os.environ[\"ENV\"] = \"prod\""
   ]
  },
  {
   "cell_type": "code",
   "execution_count": 4,
   "id": "f6c51910-6a9e-462b-8c72-cf654aa5f8b5",
   "metadata": {},
   "outputs": [],
   "source": [
    "from loguru import logger\n",
    "\n",
    "from nwcrawler.config import config\n",
    "from nwcrawler.database.connection import DatabaseConnection\n",
    "from nwcrawler.database.repositories import ArticleRepository\n",
    "\n",
    "database_filepath = f'databases/{config.ENV}.db'\n",
    "db_conn = DatabaseConnection(database_filepath)\n",
    "article_repo = ArticleRepository(db_conn)\n",
    "\n",
    "articles = article_repo.get_all()"
   ]
  },
  {
   "cell_type": "code",
   "execution_count": null,
   "id": "b1cf2f10-8b39-4d10-b48e-d8255ecb1f86",
   "metadata": {},
   "outputs": [],
   "source": []
  }
 ],
 "metadata": {
  "kernelspec": {
   "display_name": "Python 3 (ipykernel)",
   "language": "python",
   "name": "python3"
  },
  "language_info": {
   "codemirror_mode": {
    "name": "ipython",
    "version": 3
   },
   "file_extension": ".py",
   "mimetype": "text/x-python",
   "name": "python",
   "nbconvert_exporter": "python",
   "pygments_lexer": "ipython3",
   "version": "3.11.6"
  }
 },
 "nbformat": 4,
 "nbformat_minor": 5
}
