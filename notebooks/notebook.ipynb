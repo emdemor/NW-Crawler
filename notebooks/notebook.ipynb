{
 "cells": [
  {
   "cell_type": "code",
   "execution_count": 1,
   "id": "6746943e-fc7c-43c8-9dbb-4e742af06882",
   "metadata": {},
   "outputs": [],
   "source": [
    "from loguru import logger\n",
    "\n",
    "from nwcrawler.config import config\n",
    "from nwcrawler.scraping.crawler import get_articles_within_page, get_number_of_pages\n",
    "from nwcrawler.database.connection import DatabaseConnection\n",
    "from nwcrawler.database.repositories import ArticleRepository\n",
    "from nwcrawler.scraping.parsing import get_article_information, process_article"
   ]
  },
  {
   "cell_type": "code",
   "execution_count": 2,
   "id": "2a0c81aa-3fc1-4788-9145-21f6a2bf2009",
   "metadata": {},
   "outputs": [
    {
     "data": {
      "text/plain": [
       "99"
      ]
     },
     "execution_count": 2,
     "metadata": {},
     "output_type": "execute_result"
    }
   ],
   "source": [
    "get_number_of_pages(config.NW_URL)"
   ]
  },
  {
   "cell_type": "code",
   "execution_count": 2,
   "id": "b1570d06-a6a8-4108-a2d2-7014c917ecae",
   "metadata": {},
   "outputs": [],
   "source": [
    "database_filepath = f'databases/{config.ENV}.db'\n",
    "\n",
    "db_conn = DatabaseConnection(database_filepath)\n",
    "article_repo = ArticleRepository(db_conn)"
   ]
  },
  {
   "cell_type": "code",
   "execution_count": 3,
   "id": "55bc7cda-5bb6-4c13-bdc0-b424acf961bd",
   "metadata": {},
   "outputs": [
    {
     "name": "stderr",
     "output_type": "stream",
     "text": [
      "Page 1:   0%|          | 0/6 [00:00<?, ?it/s]\u001b[32m2024-09-02 01:34:37.150\u001b[0m | \u001b[34m\u001b[1mDEBUG   \u001b[0m | \u001b[36mnwcrawler.scraping.parsing\u001b[0m:\u001b[36mpersist_article\u001b[0m:\u001b[36m126\u001b[0m - \u001b[34m\u001b[1mUpdating article 'Impactos da inteligência analítica e inteligência artificial no mercado de capitais'.\u001b[0m\n",
      "Page 1:  17%|█▋        | 1/6 [00:10<00:53, 10.62s/it]\u001b[32m2024-09-02 01:34:38.425\u001b[0m | \u001b[34m\u001b[1mDEBUG   \u001b[0m | \u001b[36mnwcrawler.scraping.parsing\u001b[0m:\u001b[36mpersist_article\u001b[0m:\u001b[36m126\u001b[0m - \u001b[34m\u001b[1mUpdating article 'Como a automação de decisão ajuda as empresas a ganhar eficiência no compliance e tomar melhores decisões'.\u001b[0m\n",
      "Page 1:  33%|███▎      | 2/6 [00:11<00:20,  5.12s/it]\u001b[32m2024-09-02 01:34:39.305\u001b[0m | \u001b[34m\u001b[1mDEBUG   \u001b[0m | \u001b[36mnwcrawler.scraping.parsing\u001b[0m:\u001b[36mpersist_article\u001b[0m:\u001b[36m126\u001b[0m - \u001b[34m\u001b[1mUpdating article 'Como descobrir a maturidade financeira da base de clientes de investimentos'.\u001b[0m\n",
      "Page 1:  50%|█████     | 3/6 [00:12<00:09,  3.19s/it]\u001b[32m2024-09-02 01:34:40.214\u001b[0m | \u001b[34m\u001b[1mDEBUG   \u001b[0m | \u001b[36mnwcrawler.scraping.parsing\u001b[0m:\u001b[36mpersist_article\u001b[0m:\u001b[36m126\u001b[0m - \u001b[34m\u001b[1mUpdating article 'Como alcançar o crescimento sustentável dos negócios e crescer com eficiência operacional'.\u001b[0m\n",
      "Page 1:  67%|██████▋   | 4/6 [00:13<00:04,  2.29s/it]\u001b[32m2024-09-02 01:34:41.566\u001b[0m | \u001b[34m\u001b[1mDEBUG   \u001b[0m | \u001b[36mnwcrawler.scraping.parsing\u001b[0m:\u001b[36mpersist_article\u001b[0m:\u001b[36m126\u001b[0m - \u001b[34m\u001b[1mUpdating article 'Conheça os principais desafios e as melhores práticas do Compliance no Setor Financeiro'.\u001b[0m\n",
      "Page 1:  83%|████████▎ | 5/6 [00:15<00:01,  1.95s/it]\u001b[32m2024-09-02 01:34:42.584\u001b[0m | \u001b[34m\u001b[1mDEBUG   \u001b[0m | \u001b[36mnwcrawler.scraping.parsing\u001b[0m:\u001b[36mpersist_article\u001b[0m:\u001b[36m126\u001b[0m - \u001b[34m\u001b[1mUpdating article 'Como transformar dados em oportunidades e impulsionar a rentabilidade da carteira de clientes de investimentos'.\u001b[0m\n",
      "Page 1: 100%|██████████| 6/6 [00:16<00:00,  2.68s/it]"
     ]
    },
    {
     "name": "stdout",
     "output_type": "stream",
     "text": [
      "CPU times: user 1.79 s, sys: 225 ms, total: 2.01 s\n",
      "Wall time: 19.1 s\n"
     ]
    },
    {
     "name": "stderr",
     "output_type": "stream",
     "text": [
      "\n"
     ]
    }
   ],
   "source": [
    "%%time\n",
    "from tqdm import tqdm\n",
    "\n",
    "num_pages = get_number_of_pages(base_url)\n",
    "num_pages = 1\n",
    "\n",
    "for page in range(1, num_pages + 1):\n",
    "    articles = get_articles_within_page(page)\n",
    "    for article in tqdm(articles, total=len(articles), desc=f\"Page {page}\"):\n",
    "        process_article(article_repo, article, overwrite = True)"
   ]
  },
  {
   "cell_type": "code",
   "execution_count": 5,
   "id": "ff3315c0-6db3-4bb7-b42d-2864df75298b",
   "metadata": {},
   "outputs": [],
   "source": [
    "articles = article_repo.get_all()"
   ]
  },
  {
   "cell_type": "code",
   "execution_count": 7,
   "id": "87217c6d-5f74-474d-b31c-0b42d7cac7c9",
   "metadata": {},
   "outputs": [
    {
     "name": "stdout",
     "output_type": "stream",
     "text": [
      "                                 id post_id  \\\n",
      "0  f928c41064154c6958d4062261ebf7cc    None   \n",
      "1  e5930b4efe433ff35b1994fe1a79c076    None   \n",
      "2  90ee69c589dbd6386a77d26086ab3673    None   \n",
      "3  05646f2ec9a8a5f14c48f60c33a51511    None   \n",
      "4  350e920278007182c597869e6c361e3a    None   \n",
      "5  11696b441ad8db665f2b0b10e8ca214c    None   \n",
      "\n",
      "                                               title  author  \\\n",
      "0  Impactos da inteligência analítica e inteligên...  Neoway   \n",
      "1  Como a automação de decisão ajuda as empresas ...  Neoway   \n",
      "2  Como descobrir a maturidade financeira da base...  Neoway   \n",
      "3  Como alcançar o crescimento sustentável dos ne...  Neoway   \n",
      "4  Conheça os principais desafios e as melhores p...  Neoway   \n",
      "5  Como transformar dados em oportunidades e impu...  Neoway   \n",
      "\n",
      "                   date             category  \\\n",
      "0  30 de agosto de 2024           DataWise +   \n",
      "1  27 de agosto de 2024           Compliance   \n",
      "2  26 de agosto de 2024  Mercado de Capitais   \n",
      "3  23 de agosto de 2024   Marketing e Vendas   \n",
      "4  21 de agosto de 2024           Compliance   \n",
      "5  16 de agosto de 2024  Mercado de Capitais   \n",
      "\n",
      "                                                 url  \\\n",
      "0  https://blog.neoway.com.br/inteligencia-artifi...   \n",
      "1   https://blog.neoway.com.br/automacao-de-decisao/   \n",
      "2  https://blog.neoway.com.br/maturidade-financei...   \n",
      "3  https://blog.neoway.com.br/crescimento-sustent...   \n",
      "4  https://blog.neoway.com.br/compliance-no-setor...   \n",
      "5  https://blog.neoway.com.br/carteira-de-cliente...   \n",
      "\n",
      "                                             content  \\\n",
      "0  <p class=\"has-medium-font-size\"><strong>Índice...   \n",
      "1  <p class=\"has-medium-font-size\"><strong>Índice...   \n",
      "2  <p class=\"has-medium-font-size\"><strong>Índice...   \n",
      "3  <p class=\"has-medium-font-size\"><strong>Índice...   \n",
      "4  <p class=\"has-medium-font-size\"><strong>Índice...   \n",
      "5  <p class=\"has-medium-font-size\"><strong>Índice...   \n",
      "\n",
      "                                       metadata  \n",
      "0  {\"created_at\": \"2024-09-02T01:01:17.164675\"}  \n",
      "1  {\"created_at\": \"2024-09-02T01:01:59.574006\"}  \n",
      "2  {\"created_at\": \"2024-09-02T01:02:00.644858\"}  \n",
      "3  {\"created_at\": \"2024-09-02T01:02:02.056063\"}  \n",
      "4  {\"created_at\": \"2024-09-02T01:02:03.049614\"}  \n",
      "5  {\"created_at\": \"2024-09-02T01:02:03.959585\"}  \n"
     ]
    }
   ],
   "source": [
    "print(articles)"
   ]
  }
 ],
 "metadata": {
  "kernelspec": {
   "display_name": "Python 3 (ipykernel)",
   "language": "python",
   "name": "python3"
  },
  "language_info": {
   "codemirror_mode": {
    "name": "ipython",
    "version": 3
   },
   "file_extension": ".py",
   "mimetype": "text/x-python",
   "name": "python",
   "nbconvert_exporter": "python",
   "pygments_lexer": "ipython3",
   "version": "3.11.6"
  }
 },
 "nbformat": 4,
 "nbformat_minor": 5
}
